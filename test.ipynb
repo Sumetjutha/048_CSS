{
 "cells": [
  {
   "cell_type": "code",
   "execution_count": 1,
   "metadata": {},
   "outputs": [],
   "source": [
    "import websocket\n",
    "import json"
   ]
  },
  {
   "cell_type": "code",
   "execution_count": 2,
   "metadata": {},
   "outputs": [],
   "source": [
    "# !pip install websocket-client"
   ]
  },
  {
   "cell_type": "code",
   "execution_count": 3,
   "metadata": {},
   "outputs": [
    {
     "ename": "AttributeError",
     "evalue": "module 'websocket' has no attribute 'connect'",
     "output_type": "error",
     "traceback": [
      "\u001b[1;31m---------------------------------------------------------------------------\u001b[0m",
      "\u001b[1;31mAttributeError\u001b[0m                            Traceback (most recent call last)",
      "Cell \u001b[1;32mIn[3], line 2\u001b[0m\n\u001b[0;32m      1\u001b[0m \u001b[39m# เชื่อมต่อกับ websocket ของราคาทอง\u001b[39;00m\n\u001b[1;32m----> 2\u001b[0m ws \u001b[39m=\u001b[39m websocket\u001b[39m.\u001b[39;49mconnect(\u001b[39m\"\u001b[39m\u001b[39mwss://ws.finnhub.io/v1/stock/real-time?symbol=GC=F\u001b[39m\u001b[39m\"\u001b[39m)\n",
      "\u001b[1;31mAttributeError\u001b[0m: module 'websocket' has no attribute 'connect'"
     ]
    }
   ],
   "source": [
    "# เชื่อมต่อกับ websocket ของราคาทอง\n",
    "ws = websocket.connect(\"wss://ws.finnhub.io/v1/stock/real-time?symbol=GC=F\")"
   ]
  },
  {
   "cell_type": "code",
   "execution_count": 4,
   "metadata": {},
   "outputs": [
    {
     "name": "stdout",
     "output_type": "stream",
     "text": [
      "Handshake status 404 Not Found -+-+- {'date': 'Sun, 30 Jul 2023 15:52:03 GMT', 'content-type': 'text/html; charset=utf-8', 'transfer-encoding': 'chunked', 'connection': 'keep-alive', 'cf-cache-status': 'DYNAMIC', 'report-to': '{\"endpoints\":[{\"url\":\"https:\\\\/\\\\/a.nel.cloudflare.com\\\\/report\\\\/v3?s=SBR%2B%2BeUd8yG%2BNCI6QfFRz6K%2FtFXKyBby4QUAp0YfjzwPogb1hzW%2FKtNjXC6vIlSpsq9szZZ6McDSePCDsVXS4SWN7TdEt2qL5Buchx7DhX6kgr9ir%2BoFaJBDPXCY5ZgI\"}],\"group\":\"cf-nel\",\"max_age\":604800}', 'nel': '{\"success_fraction\":0,\"report_to\":\"cf-nel\",\"max_age\":604800}', 'server': 'cloudflare', 'cf-ray': '7eeec43ad8646bd3-SIN', 'alt-svc': 'h3=\":443\"; ma=86400'} -+-+- None\n",
      "on_close() takes 1 positional argument but 3 were given\n"
     ]
    },
    {
     "data": {
      "text/plain": [
       "True"
      ]
     },
     "execution_count": 4,
     "metadata": {},
     "output_type": "execute_result"
    }
   ],
   "source": [
    "import websocket\n",
    "import json\n",
    "\n",
    "# เชื่อมต่อกับ websocket ของราคาทอง\n",
    "ws = websocket.WebSocketApp(\"wss://ws.finnhub.io/v1/stock/real-time?symbol=GC=F\")\n",
    "\n",
    "# ตัวแปรเก็บราคาทองล่าสุด\n",
    "previous_price = None\n",
    "\n",
    "# ฟังก์ชันสำหรับรับข้อความจาก WebSocket\n",
    "def on_message(ws, message):\n",
    "    global previous_price  # ต้องใช้ตัวแปร global เพื่อแก้ไขค่าในขอบเขตของฟังก์ชัน\n",
    "\n",
    "    # แปลงข้อความเป็น JSON\n",
    "    data = json.loads(message)\n",
    "\n",
    "    # รับราคาทอง\n",
    "    price = data[\"data\"][0][\"p\"]\n",
    "\n",
    "    if previous_price is not None:\n",
    "        # คำนวณการเปลี่ยนแปลงของราคาทอง\n",
    "        change = price - previous_price\n",
    "\n",
    "        # แสดงราคาทองและการเปลี่ยนแปลงของราคาทอง\n",
    "        print(\"ราคาทอง:\", price)\n",
    "        print(\"การเปลี่ยนแปลงของราคาทอง:\", change)\n",
    "\n",
    "    # บันทึกราคาทองล่าสุด\n",
    "    previous_price = price\n",
    "\n",
    "# ฟังก์ชันสำหรับจัดการข้อผิดพลาด\n",
    "def on_error(ws, error):\n",
    "    print(error)\n",
    "\n",
    "# ฟังก์ชันสำหรับจัดการการปิดการเชื่อมต่อ\n",
    "def on_close(ws):\n",
    "    print(\"การเชื่อมต่อถูกปิด\")\n",
    "\n",
    "# เริ่มต้นการเชื่อมต่อ\n",
    "ws.on_message = on_message\n",
    "ws.on_error = on_error\n",
    "ws.on_close = on_close\n",
    "ws.run_forever()"
   ]
  },
  {
   "cell_type": "code",
   "execution_count": 5,
   "metadata": {},
   "outputs": [
    {
     "name": "stdout",
     "output_type": "stream",
     "text": [
      "Handshake status 404 Not Found -+-+- {'date': 'Sun, 30 Jul 2023 15:53:34 GMT', 'content-type': 'text/html; charset=utf-8', 'transfer-encoding': 'chunked', 'connection': 'keep-alive', 'cf-cache-status': 'DYNAMIC', 'report-to': '{\"endpoints\":[{\"url\":\"https:\\\\/\\\\/a.nel.cloudflare.com\\\\/report\\\\/v3?s=jdsKxECAuKoTNv5dfXw2nYnsIndT9pJnVaVLKGPhQpaLdKUbPXOjUukz82wNIi7UPPsRk02zrLPKExSbyp1pXuUpiGdv2cggq005GgEyKh3VOZuqAOcvNqeqyUqITe0N\"}],\"group\":\"cf-nel\",\"max_age\":604800}', 'nel': '{\"success_fraction\":0,\"report_to\":\"cf-nel\",\"max_age\":604800}', 'server': 'cloudflare', 'cf-ray': '7eeec66fae5e4080-SIN', 'alt-svc': 'h3=\":443\"; ma=86400'} -+-+- None\n",
      "on_close() takes 1 positional argument but 3 were given\n"
     ]
    },
    {
     "data": {
      "text/plain": [
       "True"
      ]
     },
     "execution_count": 5,
     "metadata": {},
     "output_type": "execute_result"
    }
   ],
   "source": [
    "import websocket\n",
    "import json\n",
    "\n",
    "# เชื่อมต่อกับ websocket ของราคาทอง\n",
    "ws = websocket.WebSocketApp(\"wss://ws.finnhub.io/v1/stock/real-time?symbol=GC=F\")\n",
    "\n",
    "# ตัวแปรเก็บราคาทองล่าสุด\n",
    "previous_price = None\n",
    "\n",
    "# ฟังก์ชันสำหรับแปลงราคาจาก USD เป็น THB\n",
    "def usd_to_thb(usd_price):\n",
    "    # สมมุติว่าอัตราแลกเปลี่ยน USD เป็น THB คือ 1 USD = 32 THB\n",
    "    exchange_rate = 32\n",
    "    thb_price = usd_price * exchange_rate\n",
    "    return thb_price\n",
    "\n",
    "# ฟังก์ชันสำหรับรับข้อความจาก WebSocket\n",
    "def on_message(ws, message):\n",
    "    global previous_price  # ต้องใช้ตัวแปร global เพื่อแก้ไขค่าในขอบเขตของฟังก์ชัน\n",
    "\n",
    "    # แปลงข้อความเป็น JSON\n",
    "    data = json.loads(message)\n",
    "\n",
    "    # รับราคาทองใน USD\n",
    "    usd_price = data[\"data\"][0][\"p\"]\n",
    "\n",
    "    if previous_price is not None:\n",
    "        # แปลงราคาทองจาก USD เป็น THB\n",
    "        thb_price = usd_to_thb(usd_price)\n",
    "        previous_thb_price = usd_to_thb(previous_price)\n",
    "\n",
    "        # คำนวณการเปลี่ยนแปลงของราคาทองใน THB\n",
    "        change_thb = thb_price - previous_thb_price\n",
    "\n",
    "        # แสดงราคาทองใน THB และการเปลี่ยนแปลงของราคาทองใน THB\n",
    "        print(\"ราคาทอง (USD):\", usd_price)\n",
    "        print(\"ราคาทอง (THB):\", thb_price)\n",
    "        print(\"การเปลี่ยนแปลงของราคาทอง (THB):\", change_thb)\n",
    "\n",
    "    # บันทึกราคาทองล่าสุดใน USD\n",
    "    previous_price = usd_price\n",
    "\n",
    "# ฟังก์ชันสำหรับจัดการข้อผิดพลาด\n",
    "def on_error(ws, error):\n",
    "    print(error)\n",
    "\n",
    "# ฟังก์ชันสำหรับจัดการการปิดการเชื่อมต่อ\n",
    "def on_close(ws):\n",
    "    print(\"การเชื่อมต่อถูกปิด\")\n",
    "\n",
    "# เริ่มต้นการเชื่อมต่อ\n",
    "ws.on_message = on_message\n",
    "ws.on_error = on_error\n",
    "ws.on_close = on_close\n",
    "ws.run_forever()\n"
   ]
  }
 ],
 "metadata": {
  "kernelspec": {
   "display_name": "Python 3",
   "language": "python",
   "name": "python3"
  },
  "language_info": {
   "codemirror_mode": {
    "name": "ipython",
    "version": 3
   },
   "file_extension": ".py",
   "mimetype": "text/x-python",
   "name": "python",
   "nbconvert_exporter": "python",
   "pygments_lexer": "ipython3",
   "version": "3.9.13"
  },
  "orig_nbformat": 4
 },
 "nbformat": 4,
 "nbformat_minor": 2
}
